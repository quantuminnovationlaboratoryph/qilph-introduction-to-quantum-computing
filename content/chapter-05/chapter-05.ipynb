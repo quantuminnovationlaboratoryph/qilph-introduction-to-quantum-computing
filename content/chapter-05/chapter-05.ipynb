{
 "cells": [
  {
   "cell_type": "markdown",
   "metadata": {},
   "source": [
    "# Quantum Algorithms and Their Advantages Over Classical Counterparts\n",
    "*by Jul Jon R. General*\n",
    "\n",
    "\n",
    "## Superdense Coding\n",
    "\n",
    "Tita Baby wants to send classical information to Tito Arnel. For example, this info could be her preferred restaurant from four choices: Jollibee, McDonald’s, Mang Inasal, and Popeye’s. \n",
    "\n",
    "These four choices can be encoded using two bits (Remember our classical computing module), such that:\n",
    "\n",
    "00 = Jollibee\n",
    "\n",
    "01 = McDonald’s\n",
    "\n",
    "10 = Mang Inasal\n",
    "\n",
    "11 = Popeye’s \n",
    "\n",
    "To tell Tito Arnel where she wants to eat, without loss of information, she needs to send two classical bits. How can we improve this? \n",
    "\n",
    "\n",
    "Quantumly, Tita Baby can send just one qubit, but it needs to be entangled with a second\n",
    "qubit that Tito Arnel already has. Say Tita Baby and Tito Arnel share a pair of entangled qubits in\n",
    "the |Φ+⟩ state: (1/√2)(|00⟩ + |11⟩)\n",
    "\n",
    "If Tita Baby wants to tell Tito Arnel that she chooses Jollibee then she does nothing to her qubit:\n",
    "![Alt text](superdensecoding1.png)\n",
    "\n",
    "If Tita Baby wants to tell Tito Arnel that she chooses McDonald's then she applies the *X* gate to her qubit:\n",
    "![Alt text](superdense2.png)\n",
    "\n",
    "If Tita Baby wants to tell Tito Arnel that she chooses Mang Inasal then she applies the *Z* gate to her qubit:\n",
    "![Alt text](superdense3.png)\n",
    "\n",
    "If Tita Baby wants to tell Tito Arnel that she chooses Popeye's then she applies the *X* gate and then the *Z* gate to her qubit:\n",
    "![Alt text](superdense4.png)\n",
    "\n",
    "\n",
    "As a communication protocol, this shows an improvement: Only 1 qubit is needed to be sent, compared to 2 classical bits. But computationally, this still requires 2 qubits."
   ]
  }
 ],
 "metadata": {
  "language_info": {
   "name": "python"
  },
  "orig_nbformat": 4
 },
 "nbformat": 4,
 "nbformat_minor": 2
}
